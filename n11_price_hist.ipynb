{
 "cells": [
  {
   "cell_type": "markdown",
   "id": "67da9c96",
   "metadata": {},
   "source": [
    "### Configuración"
   ]
  },
  {
   "cell_type": "code",
   "execution_count": null,
   "id": "1673e5ff",
   "metadata": {},
   "outputs": [],
   "source": [
    "# Instalación de MySQL Connector Python y Pandas\n",
    "!pip install mysql-connector-python\n",
    "!pip install pandas"
   ]
  },
  {
   "cell_type": "code",
   "execution_count": null,
   "id": "fb004426",
   "metadata": {},
   "outputs": [],
   "source": [
    "# Importación de MySQL Connector, Pandas y Numpy\n",
    "import mysql.connector\n",
    "import pandas as pd\n",
    "import numpy as np\n",
    "import datetime\n",
    "import re"
   ]
  },
  {
   "cell_type": "code",
   "execution_count": null,
   "id": "ce88068d",
   "metadata": {},
   "outputs": [],
   "source": [
    "# Conexión a la base de datos de MySQL\n",
    "cnx = mysql.connector.connect(\n",
    "   host=\"localhost\",\n",
    "   port=3306,\n",
    "   user=\"root\",\n",
    "   password='2023*DaSci',\n",
    "   database='project_processpython'\n",
    ")"
   ]
  },
  {
   "cell_type": "code",
   "execution_count": null,
   "id": "dd91dacc",
   "metadata": {},
   "outputs": [],
   "source": [
    "# REVISAMOS TODAS LAS TABLAS DE LA BASE DE DATOS y Confirmamos el nombre de la tabla 2\n",
    "# Realización de lecturas a nuestra base de datos creando un objeto llamado cursor.\n",
    "cursor = cnx.cursor()\n",
    "# Consulta de tablas\n",
    "cursor.execute(\"SHOW TABLES\")\n",
    "#Extracción de información\n",
    "all_tables = cursor.fetchall()\n",
    "all_tables[2]\n",
    "# Para cerrar el cursor\n",
    "# cursor.close()"
   ]
  },
  {
   "cell_type": "code",
   "execution_count": null,
   "id": "3d2502cf",
   "metadata": {},
   "outputs": [],
   "source": [
    "# Realización de lecturas a nuestra base de datos creando un objeto llamado cursor.\n",
    "cursor = cnx.cursor()\n",
    "# Consulta de la tabla PRECIOS HISTORICOS (n11_price_hist)\n",
    "cursor.execute(\"SELECT * FROM n11_price_hist\")\n",
    "#Extracción de información\n",
    "price_hist = cursor.fetchall()\n",
    "# price_hist\n",
    "\n",
    "# Revisión de una fila\n",
    "# price_hist[0]\n",
    "\n",
    "# Construimos el DataFrame PRECIOS HISTORICOS\n",
    "df_price_hist = pd.DataFrame(price_hist, columns=['num_reg', 'date_price', 'ticker_price', 'open_price', 'high_price', 'low_price', 'close_price', 'adj_lose_price', 'vol_trade'])\n",
    "# Se utilizó una lista para nombrar las columnas.\n",
    "\n",
    "# Convertir la columna num_reg en índice \n",
    "df_price_hist = df_price_hist.set_index('num_reg', drop=True)\n",
    "df_price_hist.head()\n",
    "\n",
    "# Para cerrar el cursor\n",
    "# cursor.close()"
   ]
  },
  {
   "cell_type": "code",
   "execution_count": null,
   "id": "4793abad",
   "metadata": {},
   "outputs": [],
   "source": [
    "# Revisión de una fila\n",
    "# price_hist[0]"
   ]
  },
  {
   "cell_type": "markdown",
   "id": "f46cc798",
   "metadata": {},
   "source": [
    "### Análisis preliminar de la tabla"
   ]
  },
  {
   "cell_type": "code",
   "execution_count": null,
   "id": "50be6803",
   "metadata": {},
   "outputs": [],
   "source": [
    "# Dimensiones del DataFrame PRECIOS HISTORICOS\n",
    "df_price_hist.shape"
   ]
  },
  {
   "cell_type": "code",
   "execution_count": null,
   "id": "61dc854c",
   "metadata": {},
   "outputs": [],
   "source": [
    "# Tipos de datos de DataFrame PRECIOS HISTORICOS\n",
    "df_price_hist.dtypes"
   ]
  },
  {
   "cell_type": "markdown",
   "id": "af2f36a3",
   "metadata": {},
   "source": [
    "### Despliegue del DataFrame"
   ]
  },
  {
   "cell_type": "code",
   "execution_count": null,
   "id": "473eb0dc",
   "metadata": {},
   "outputs": [],
   "source": [
    "# Despliegue final de todo el DataFrame PRECIOS HISTORICOS. Solo se mostrarán algunos resultados debido \n",
    "# al gran tamaño de la tabla.\n",
    "df_price_hist"
   ]
  },
  {
   "cell_type": "code",
   "execution_count": null,
   "id": "20b87861",
   "metadata": {},
   "outputs": [],
   "source": [
    "all_df_price_hist=df_price_hist"
   ]
  },
  {
   "cell_type": "markdown",
   "id": "5cdcc59e",
   "metadata": {},
   "source": [
    "# Aplicación de los conocimientos"
   ]
  },
  {
   "cell_type": "code",
   "execution_count": null,
   "id": "a61ad0e4",
   "metadata": {},
   "outputs": [],
   "source": [
    "# Escribir aquí"
   ]
  },
  {
   "cell_type": "markdown",
   "id": "7c5f1e89",
   "metadata": {},
   "source": [
    "## Practicas básicas"
   ]
  },
  {
   "cell_type": "code",
   "execution_count": null,
   "id": "2192aa91",
   "metadata": {},
   "outputs": [],
   "source": [
    "# Variables\n",
    "danhos13_open = 19.889999\n",
    "danhos13_high = 19.940001\n",
    "danhos13_low = 19.549999\n",
    "danhos13_close = 19.580000\n",
    "fmty14_close = 10.770000\n",
    "cant_danhos13 = 5\n",
    "cant_fmty14 = 10"
   ]
  },
  {
   "cell_type": "code",
   "execution_count": null,
   "id": "a6d217eb",
   "metadata": {},
   "outputs": [],
   "source": [
    "# Acceder a una variable\n",
    "danhos13_open"
   ]
  },
  {
   "cell_type": "code",
   "execution_count": null,
   "id": "a6290d2d",
   "metadata": {},
   "outputs": [],
   "source": [
    "# Operadores - Suma\n",
    "compra_total = danhos13_close + fmty14_close\n",
    "# Operadores - resta\n",
    "var_dia_danhos13 = danhos13_close - danhos13_open\n",
    "# Operadores - Multiplicación\n",
    "monto_compra = (danhos13_close * cant_danhos13) + (fmty14_close * cant_fmty14)\n",
    "# Operadores - División\n",
    "por_var_danhos13 = (danhos13_close - danhos13_open) / danhos13_open"
   ]
  },
  {
   "cell_type": "code",
   "execution_count": null,
   "id": "34294801",
   "metadata": {},
   "outputs": [],
   "source": [
    "# Despliegue de resultados de multiples valores. El “\\n” nos pone saltos de línea para decorar la salida.\n",
    "print(compra_total)\n",
    "print(var_dia_danhos13)\n",
    "print(\"\\n\")\n",
    "print(monto_compra)\n",
    "print(por_var_danhos13)"
   ]
  },
  {
   "cell_type": "code",
   "execution_count": null,
   "id": "5aad197a",
   "metadata": {},
   "outputs": [],
   "source": [
    "# Tipos de datos\n",
    "type_danhos13_close = type(danhos13_close)\n",
    "type_cant_danhos13 = type(cant_danhos13)\n",
    "print(type_danhos13_close)\n",
    "print(type_cant_danhos13)"
   ]
  },
  {
   "cell_type": "code",
   "execution_count": null,
   "id": "8e9955a6",
   "metadata": {},
   "outputs": [],
   "source": [
    "# Imprimir strings y números en una misma frase\n",
    "print(f'Monto total de la compra: ${monto_compra}')"
   ]
  },
  {
   "cell_type": "code",
   "execution_count": null,
   "id": "7921b353",
   "metadata": {},
   "outputs": [],
   "source": [
    "# Comparaciones\n",
    "danhos13_close > fmty14_close"
   ]
  },
  {
   "cell_type": "code",
   "execution_count": null,
   "id": "ec9bcfe4",
   "metadata": {},
   "outputs": [],
   "source": [
    "# Estructuras de control de flujo\n",
    "if danhos13_close > danhos13_open:\n",
    "    print(\"El precio de Danhos13 subió en el transcurso del día\")\n",
    "elif danhos13_close < danhos13_open:\n",
    "    print(\"El precio de Danhos13 bajó en el transcurso del día\")\n",
    "else:\n",
    "    print(\"El precio de Danhos13 no varió en el transcurso del día\")"
   ]
  },
  {
   "cell_type": "code",
   "execution_count": null,
   "id": "e847f1b1",
   "metadata": {},
   "outputs": [],
   "source": [
    "# Ejemplo de listas\n",
    "ejem_columns = ['num_reg', 'date_price', 'ticker_price', 'open_price', 'high_price', 'low_price', 'close_price', 'adj_lose_price', 'vol_trade']\n",
    "ejem_columns"
   ]
  },
  {
   "cell_type": "code",
   "execution_count": null,
   "id": "0f82b05b",
   "metadata": {},
   "outputs": [],
   "source": [
    "# Imprimir elementos de una lista\n",
    "print(ejem_columns[0])\n",
    "print(ejem_columns[1])\n",
    "print(ejem_columns[6])"
   ]
  },
  {
   "cell_type": "code",
   "execution_count": null,
   "id": "74a3cf6f",
   "metadata": {},
   "outputs": [],
   "source": [
    "# Agregar un elemento de la lista\n",
    "ejem_columns.append('average_price')\n",
    "ejem_columns"
   ]
  },
  {
   "cell_type": "code",
   "execution_count": null,
   "id": "81c1a96b",
   "metadata": {},
   "outputs": [],
   "source": [
    "# Eliminar un elemento de la lista\n",
    "ejem_columns.pop(9)\n",
    "ejem_columns"
   ]
  },
  {
   "cell_type": "markdown",
   "id": "57d29f69",
   "metadata": {},
   "source": [
    "## Ejemplos aplicados al DataFrame"
   ]
  },
  {
   "cell_type": "code",
   "execution_count": null,
   "id": "ee746448",
   "metadata": {},
   "outputs": [],
   "source": [
    "# Despliegue del DataFrame\n",
    "df_price_hist.head(10)"
   ]
  },
  {
   "cell_type": "code",
   "execution_count": null,
   "id": "547436a9",
   "metadata": {},
   "outputs": [],
   "source": [
    "# Lectura de filas en el DataFrame\n",
    "#Tamaño del DataFrame\n",
    "total_registros = df_price_hist['ticker_price'].count()\n",
    "# total_registros\n",
    "# Resultado: 704\n",
    "\n",
    "# df_price_hist.loc[705]"
   ]
  },
  {
   "cell_type": "code",
   "execution_count": null,
   "id": "653c636f",
   "metadata": {},
   "outputs": [],
   "source": [
    "try:\n",
    "    df_price_hist.loc[705]\n",
    "except:\n",
    "    print(\"Llave inexistente\")\n",
    "# Ver despues como se puede aplicar"
   ]
  },
  {
   "cell_type": "markdown",
   "id": "510ec5bc",
   "metadata": {},
   "source": [
    "#### Obtenemos un diccionario"
   ]
  },
  {
   "cell_type": "code",
   "execution_count": null,
   "id": "86af9407",
   "metadata": {},
   "outputs": [],
   "source": [
    "# Ejemplo de diccionario\n",
    "# Accedemos a una fila del dataFrame 'df_price_hist' y la convertimos en un diccionario\n",
    "f0_df_price_hist = df_price_hist.iloc[0].to_dict()\n",
    "# El diccionario que estaremos utilizando\n",
    "f0_df_price_hist"
   ]
  },
  {
   "cell_type": "markdown",
   "id": "ab0e5204",
   "metadata": {},
   "source": [
    "#### Definición de algunas funciones y variables"
   ]
  },
  {
   "cell_type": "code",
   "execution_count": null,
   "id": "f9c5ba01",
   "metadata": {},
   "outputs": [],
   "source": [
    "# Definimos la variable por la cual vamos a multiplicar los precios\n",
    "total_tickers = 15"
   ]
  },
  {
   "cell_type": "code",
   "execution_count": null,
   "id": "40094abb",
   "metadata": {},
   "outputs": [],
   "source": [
    "# Definimos variables a utilizar en las funciones aplicadas en el diccionario\n",
    "open_p = f0_df_price_hist['open_price']\n",
    "close_p = f0_df_price_hist['close_price']"
   ]
  },
  {
   "cell_type": "code",
   "execution_count": null,
   "id": "001898d6",
   "metadata": {},
   "outputs": [],
   "source": [
    "# Función para obtener el precio promedio\n",
    "def f_ave_price(primero, segundo):\n",
    "    r_ave_price = (primero + segundo)/2\n",
    "    return r_ave_price"
   ]
  },
  {
   "cell_type": "code",
   "execution_count": null,
   "id": "88f03788",
   "metadata": {},
   "outputs": [],
   "source": [
    "# Función para calcular porcentaje de variación\n",
    "def porcen_var(primero, segundo):\n",
    "    porcentaje = ((segundo-primero)/primero) * 100\n",
    "    return porcentaje"
   ]
  },
  {
   "cell_type": "code",
   "execution_count": null,
   "id": "4d8ca626",
   "metadata": {},
   "outputs": [],
   "source": [
    "# Función para calcular monto de compra de 15 tickers\n",
    "def monto_compra(precio):\n",
    "    # monto_de_compra = precio * 15\n",
    "    monto_de_compra = precio * total_tickers\n",
    "    return monto_de_compra"
   ]
  },
  {
   "cell_type": "code",
   "execution_count": null,
   "id": "c25ce555",
   "metadata": {},
   "outputs": [],
   "source": [
    "#  Función para para calcular si el precio es menor a 19.90\n",
    "def precio_sub_19_90(numero):\n",
    "    if numero < 19.90:\n",
    "        return True\n",
    "    else:\n",
    "        return False"
   ]
  },
  {
   "cell_type": "code",
   "execution_count": null,
   "id": "bfe79e7a",
   "metadata": {},
   "outputs": [],
   "source": [
    "#  Función para para calcular si el precio es mayor a 19.60\n",
    "def precio_sup_19_60(numero):\n",
    "    if numero > 19.60:\n",
    "        return True\n",
    "    else:\n",
    "        return False"
   ]
  },
  {
   "cell_type": "code",
   "execution_count": null,
   "id": "a104d0a4",
   "metadata": {},
   "outputs": [],
   "source": [
    "#  Función para para calcular si el precio es menor a 19.90 y mayor a 19.60\n",
    "def precio_sub_19_90_y_precio_sup_19_60(numero):\n",
    "    if precio_sub_19_90(numero) and precio_sup_19_60(numero):\n",
    "         return True\n",
    "    else:\n",
    "        return False"
   ]
  },
  {
   "cell_type": "code",
   "execution_count": null,
   "id": "52812b81",
   "metadata": {},
   "outputs": [],
   "source": [
    "# Función para ver si está FMTY14\n",
    "def hay_FMTY14(ticker):\n",
    "    if ticker == 'FMTY14':\n",
    "        return True\n",
    "    else:\n",
    "        return False\n",
    "        "
   ]
  },
  {
   "cell_type": "code",
   "execution_count": null,
   "id": "eb9f7e4e",
   "metadata": {},
   "outputs": [],
   "source": [
    "# Función para ver si está FUNO11\n",
    "def hay_FUNO11(ticker):\n",
    "    if ticker == 'FUNO11':\n",
    "        return True\n",
    "    else:\n",
    "        return False"
   ]
  },
  {
   "cell_type": "code",
   "execution_count": null,
   "id": "e21d32b9",
   "metadata": {},
   "outputs": [],
   "source": [
    "# Función para ver si está FMTY14 o FUNO11\n",
    "def hay_FMTY14_o_hay_FUNO11(ticker):\n",
    "    if hay_FMTY14(ticker) or hay_FUNO11(ticker):\n",
    "        return True\n",
    "    else:\n",
    "        return False"
   ]
  },
  {
   "cell_type": "markdown",
   "id": "0558bfd5",
   "metadata": {},
   "source": [
    "### Aplicando lo visto en el DataFrame"
   ]
  },
  {
   "cell_type": "code",
   "execution_count": null,
   "id": "e2302584",
   "metadata": {},
   "outputs": [],
   "source": [
    "# Agregar datos a nuestro diccionario aplicando la función para en la agregación de datos a nuestro diccionario\n",
    "ave_price = f_ave_price(close_p, open_p)\n",
    "f0_df_price_hist['average_price'] = ave_price\n",
    "f0_df_price_hist"
   ]
  },
  {
   "cell_type": "code",
   "execution_count": null,
   "id": "ba51b7e3",
   "metadata": {},
   "outputs": [],
   "source": [
    "# Modificar datos de nuestro dicionario\n",
    "f0_df_price_hist['vol_trade'] = 235374\n",
    "f0_df_price_hist"
   ]
  },
  {
   "cell_type": "code",
   "execution_count": null,
   "id": "0ee35bbc",
   "metadata": {},
   "outputs": [],
   "source": [
    "# Eliminar datos de nuestro diccionario\n",
    "f0_df_price_hist.pop('average_price')\n",
    "f0_df_price_hist"
   ]
  },
  {
   "cell_type": "code",
   "execution_count": null,
   "id": "e1c809b8",
   "metadata": {},
   "outputs": [],
   "source": [
    "# Calculamos cuanto varió el precio ese día (usamos la función de variación y una estructura de control)\n",
    "var_DANHOS13_20230922 = porcen_var(open_p, close_p)\n",
    "if close_p > open_p:\n",
    "    print(f'El precio de DANHOS13 incrementó en un {var_DANHOS13_20230922} % en el transcurso del día')\n",
    "elif  close_p < open_p:\n",
    "    print(f'El precio de DANHOS13 disminuyó en un {var_DANHOS13_20230922} % en el transcurso del día')\n",
    "else:\n",
    "    print(\"El precio no varió en el transcurso del día\")"
   ]
  },
  {
   "cell_type": "code",
   "execution_count": null,
   "id": "5125b52a",
   "metadata": {},
   "outputs": [],
   "source": [
    "# Uso de MAP\n",
    "# Convertimos los indices y los valores del diccionario en listas\n",
    "prices_index_list = list(f0_df_price_hist.keys())\n",
    "prices_values_list = list(f0_df_price_hist.values())\n",
    "print(prices_index_list)\n",
    "print(prices_values_list)"
   ]
  },
  {
   "cell_type": "code",
   "execution_count": null,
   "id": "93fb7a0c",
   "metadata": {},
   "outputs": [],
   "source": [
    "# Depuramos los valores de las listas dejando solo los precios\n",
    "prices_index_list2 = prices_index_list[2:7]\n",
    "prices_values_list2 = prices_values_list[2:7]\n",
    "print(prices_index_list2)\n",
    "print(prices_values_list2)"
   ]
  },
  {
   "cell_type": "code",
   "execution_count": null,
   "id": "b3c700fc",
   "metadata": {},
   "outputs": [],
   "source": [
    "# Determinamos los montos totales por pagar\n",
    "total_x_15_tickers = list(map(monto_compra, prices_values_list2))\n",
    "print('Total a pagar por 15 tickers:')\n",
    "print(\"\\n\")\n",
    "# Para no repetir código, aplicamos un FOR LOOPS\n",
    "for i in range(0,5):\n",
    "    print(f'{prices_index_list2[i]}: {total_x_15_tickers[i]}')"
   ]
  },
  {
   "cell_type": "code",
   "execution_count": null,
   "id": "f53d4011",
   "metadata": {},
   "outputs": [],
   "source": [
    "# Uso de FILTER precio menor a 19.90\n",
    "list(filter(precio_sub_19_90,prices_values_list2))\n"
   ]
  },
  {
   "cell_type": "code",
   "execution_count": null,
   "id": "680f71f8",
   "metadata": {},
   "outputs": [],
   "source": [
    "# Uso de FILTER precio menor a 19.90 y mayor a 19.60 usando AND\n",
    "list(filter(precio_sub_19_90_y_precio_sup_19_60,prices_values_list2))"
   ]
  },
  {
   "cell_type": "code",
   "execution_count": null,
   "id": "b5f36d2f",
   "metadata": {},
   "outputs": [],
   "source": [
    "# Uso de OR\n",
    "# Extraemos una lista de la columna ticker_price\n",
    "lista_columna_price = df_price_hist['ticker_price'].tolist()\n",
    "# lista_columna_price\n",
    "\n",
    "# Uso de FILTER hay ticker FMTY14 o FUNO11 usando OR\n",
    "list(filter(hay_FMTY14_o_hay_FUNO11,lista_columna_price))\n"
   ]
  },
  {
   "cell_type": "code",
   "execution_count": null,
   "id": "b6c52603",
   "metadata": {},
   "outputs": [],
   "source": [
    "# FUNCIONES LAMBDA\n",
    "# Ejemplo usando función LAMDA\n",
    "list(filter(lambda x: not hay_FMTY14_o_hay_FUNO11(x), lista_columna_price))"
   ]
  },
  {
   "cell_type": "code",
   "execution_count": null,
   "id": "1333c722",
   "metadata": {},
   "outputs": [],
   "source": [
    "# SERIES\n",
    "# Retomamos las listas creadas anteriormente para declarar una serie\n",
    "# prices_index_list\n",
    "# prices_values_list\n",
    "serie_0 = pd.Series(data = prices_values_list, index = prices_index_list)\n",
    "serie_0"
   ]
  },
  {
   "cell_type": "code",
   "execution_count": null,
   "id": "445429c1",
   "metadata": {},
   "outputs": [],
   "source": [
    "# Asignamos un nuevo valor a un índice\n",
    "serie_0.loc['vol_trade'] = 235425\n",
    "serie_0"
   ]
  },
  {
   "cell_type": "code",
   "execution_count": null,
   "id": "03ccf374",
   "metadata": {},
   "outputs": [],
   "source": [
    "# Accedemos a multiples indices\n",
    "serie_0.loc[['date_price','ticker_price','close_price']]"
   ]
  },
  {
   "cell_type": "code",
   "execution_count": null,
   "id": "befbc7bb",
   "metadata": {},
   "outputs": [],
   "source": [
    "# Accedemos a un rango de índices\n",
    "serie_0.loc[:'open_price']"
   ]
  },
  {
   "cell_type": "code",
   "execution_count": null,
   "id": "83adb3d1",
   "metadata": {},
   "outputs": [],
   "source": [
    "# CONTINUACIÓN CON LA MANUPULACIÓN DE NUESTRO DATAFRAME\n",
    "# Traemos de vuelta nuestro DataFrame para volver a familiarizarnos con el\n",
    "df_price_hist.head(50)"
   ]
  },
  {
   "cell_type": "code",
   "execution_count": null,
   "id": "9baf38c9",
   "metadata": {},
   "outputs": [],
   "source": [
    "# Revisamos la columna 'date_price', 'ticker_price' y 'close_price'\n",
    "df_price_hist[['date_price', 'ticker_price', 'close_price']]"
   ]
  },
  {
   "cell_type": "code",
   "execution_count": null,
   "id": "b25703ed",
   "metadata": {},
   "outputs": [],
   "source": [
    "# Pedimos algunas filas\n",
    "df_price_hist.loc[[4, 14, 22, 29, 36, 43, 50]]"
   ]
  },
  {
   "cell_type": "code",
   "execution_count": null,
   "id": "98cd59c5",
   "metadata": {},
   "outputs": [],
   "source": [
    "# Pedimos algunas filas y algunas columnas. Con el resultado creamos un nuevo DataFrame\n",
    "df_price_FUNO11 = df_price_hist.loc[[4, 14, 22, 29, 36, 43, 50], ['date_price', 'ticker_price', 'open_price', 'close_price','vol_trade']]\n",
    "df_price_FUNO11"
   ]
  },
  {
   "cell_type": "code",
   "execution_count": null,
   "id": "1b113847",
   "metadata": {},
   "outputs": [],
   "source": [
    "# MANIPULACIÓN DE COLUMNAS\n",
    "# Utilizaremos el DataFrame df_price_FUNO11\n",
    "# Creamos una nueva columna y le agregamos valores\n",
    "tm = pd.Series(['3Q','3Q','3Q','3Q','2Q','2Q','2Q'], index=df_price_FUNO11.index)\n",
    "df_price_FUNO11['TM'] = tm\n",
    "df_price_FUNO11"
   ]
  },
  {
   "cell_type": "code",
   "execution_count": null,
   "id": "7ffe233c",
   "metadata": {},
   "outputs": [],
   "source": [
    "# Eliminar columnas\n",
    "# Eliminamos la columna anteriormente creada\n",
    "df_price_FUNO11_sTM = df_price_FUNO11.drop(columns=['TM'])\n",
    "df_price_FUNO11_sTM"
   ]
  },
  {
   "cell_type": "code",
   "execution_count": null,
   "id": "e8f827e9",
   "metadata": {},
   "outputs": [],
   "source": [
    "# ADQUISICIÓN DE DATOS\n",
    "# Para este proyecto no aplicaría por lo pronto el importar desde un JSON o CSV porque eso se hace desde MySQL.\n",
    "# MySQL es la fuente de nuestros datos."
   ]
  },
  {
   "cell_type": "code",
   "execution_count": null,
   "id": "cfb3a055",
   "metadata": {},
   "outputs": [],
   "source": [
    "# ANÁLISIS EXPLORATORIO DE DATOS\n",
    "# Visto en Análisis Preliminar de la tabla en este Notebook y en el llamado \"g00_general_notebook\""
   ]
  },
  {
   "cell_type": "code",
   "execution_count": null,
   "id": "af47cced",
   "metadata": {},
   "outputs": [],
   "source": [
    "#SERIES Y FUNCIONES VECTORIZADAS\n",
    "# Extraemos la columna 'vol_trade' y la convertimos en serie\n",
    "serie_vol_df_price_FUNO11 = pd.Series(df_price_FUNO11['vol_trade'].tolist())\n",
    "# serie_vol_df_price_FUNO11\n",
    "# hacemos una operación con la serie como dividir los montos entre 30 para tener un aproximado del volumen diario\n",
    "(serie_vol_df_price_FUNO11)/30\n"
   ]
  },
  {
   "cell_type": "code",
   "execution_count": null,
   "id": "33794111",
   "metadata": {},
   "outputs": [],
   "source": [
    "# Para saber el monto total del volumen negocioado en esos periodos\n",
    "serie_vol_df_price_FUNO11.sum()"
   ]
  },
  {
   "cell_type": "code",
   "execution_count": null,
   "id": "0d8911e8",
   "metadata": {},
   "outputs": [],
   "source": [
    "# Para saber cuantos registros hay en cada columna de un DataFrame\n",
    "df_price_FUNO11.count()"
   ]
  },
  {
   "cell_type": "code",
   "execution_count": null,
   "id": "4aa7772f",
   "metadata": {},
   "outputs": [],
   "source": [
    "# Determinar el precio promedio de cierre de FUNO 11 en el DataFrame df_price_FUNO11\n",
    "suma_precios = df_price_FUNO11['close_price'].sum()\n",
    "numero_precios = df_price_FUNO11['close_price'].count()\n",
    "\n",
    "precio_promedio = suma_precios / numero_precios\n",
    "precio_promedio"
   ]
  },
  {
   "cell_type": "code",
   "execution_count": null,
   "id": "78f362df",
   "metadata": {},
   "outputs": [],
   "source": [
    "# Funciones vectorizadas y Agregaciones con DataFrames\n",
    "# Revisamos nuestro DataFrame muestra, df_price_FUNO11_sTM\n",
    "df_price_FUNO11_sTM\n",
    "# se aplicaron las agregaciones de sum() y count()"
   ]
  },
  {
   "cell_type": "code",
   "execution_count": null,
   "id": "d7f17314",
   "metadata": {},
   "outputs": [],
   "source": [
    "# Funciones vectorizadas\n",
    "df_price_FUNO11_sTM['close_price'] * 10"
   ]
  },
  {
   "cell_type": "code",
   "execution_count": null,
   "id": "2b6e95b5",
   "metadata": {},
   "outputs": [],
   "source": [
    "# Creamos una copia del DataFrame\n",
    "df_price_FUNO11_aveprice = df_price_FUNO11_sTM\n",
    "\n",
    "# Calculamos el precio promedio diario\n",
    "precio_promedio = (df_price_FUNO11_aveprice['close_price'] + df_price_FUNO11_aveprice['open_price']) / 2\n",
    "\n",
    "# Creamos una nueva columna y le agregamos valores de los precios promedio\n",
    "average_price = pd.Series(precio_promedio, index=df_price_FUNO11_aveprice.index)\n",
    "df_price_FUNO11_aveprice['average_price'] = average_price\n",
    "df_price_FUNO11_aveprice"
   ]
  },
  {
   "cell_type": "code",
   "execution_count": null,
   "id": "de7949ca",
   "metadata": {},
   "outputs": [],
   "source": [
    "# NANS\n",
    "# Durante la importación de algunos CSV en MySQL, el programa no nos importó muchas filas.\n",
    "# Esa es la razón por la que algunas tablas les faltan varias filas.\n",
    "# Checar en n17_edores_balgral, se hará si queda tiempo"
   ]
  },
  {
   "cell_type": "code",
   "execution_count": null,
   "id": "e0874a92",
   "metadata": {},
   "outputs": [],
   "source": [
    "# REINDEXANDO\n",
    "# Se aplicó en el Notebook n12_edores, uno de los afectados en la importación de NaNs"
   ]
  },
  {
   "cell_type": "code",
   "execution_count": null,
   "id": "f1baf24c",
   "metadata": {},
   "outputs": [],
   "source": [
    "# APIs\n",
    "# No aplica para el proyecto"
   ]
  },
  {
   "cell_type": "code",
   "execution_count": null,
   "id": "a3adcbd6",
   "metadata": {},
   "outputs": [],
   "source": [
    "# LOOPs\n",
    "# Checar en el uso de MAP, se empleó para no repetir código"
   ]
  },
  {
   "cell_type": "code",
   "execution_count": null,
   "id": "4b9dc620",
   "metadata": {},
   "outputs": [],
   "source": [
    "# EXCEPCIONES\n",
    "# Pendiente"
   ]
  },
  {
   "cell_type": "code",
   "execution_count": null,
   "id": "787e23d2",
   "metadata": {},
   "outputs": [],
   "source": [
    "# CONCATENACIÓN DE DATAFRAMES - Pd.concat con DataFrames\n",
    "# Checar en n17_edores_balgral"
   ]
  },
  {
   "cell_type": "code",
   "execution_count": null,
   "id": "5a91bde5",
   "metadata": {},
   "outputs": [],
   "source": [
    "# CASTING\n",
    "# Astype\n",
    "# Transformamos el tipo de datos de date_price con astype\n",
    "df_price_FUNO11_aveprice['date_price'] = df_price_FUNO11_aveprice['date_price'].astype('datetime64[us]')\n",
    "df_price_FUNO11_aveprice['date_price']"
   ]
  },
  {
   "cell_type": "code",
   "execution_count": null,
   "id": "b07c5189",
   "metadata": {},
   "outputs": [],
   "source": [
    "# verificamos el cambio\n",
    "df_price_FUNO11_aveprice.dtypes\n",
    "# Correcto el cambio, pasada la presentación se procederá a cambiar todos los DataFrames con los que s eva a trabajar"
   ]
  },
  {
   "cell_type": "code",
   "execution_count": null,
   "id": "49ad13bd",
   "metadata": {},
   "outputs": [],
   "source": [
    "# To_numeric\n",
    "# No aplica por el moment0\n",
    "# pd.to_numeric(df('campo_por_convertir'))"
   ]
  },
  {
   "cell_type": "code",
   "execution_count": null,
   "id": "1a3d5af2",
   "metadata": {},
   "outputs": [],
   "source": [
    "# Datetime64\n",
    "# se empleó una variación con astype\n",
    "# Considerar aplicar este modo en los demas DataFrames\n",
    "# pd.to_date(df('campo_por_convertir.numberLong'))\n",
    "# pd.to_date(df('campo_por_convertir.numberLong'), unit='ms')"
   ]
  },
  {
   "cell_type": "code",
   "execution_count": null,
   "id": "ec0e9ba9",
   "metadata": {},
   "outputs": [],
   "source": [
    "# MANIPULACIÓN DE STRINGS\n",
    "# VER EN n00_accounts_catalog\n",
    "# Pendientes los métodos métodos title, upper y lower \n",
    "# Pendiente la asignación de nuevas series"
   ]
  },
  {
   "cell_type": "code",
   "execution_count": null,
   "id": "06e40613",
   "metadata": {},
   "outputs": [],
   "source": [
    "# SPLIT\n",
    "# Checarlo en n01_fibras_catalog"
   ]
  },
  {
   "cell_type": "code",
   "execution_count": null,
   "id": "ad0e1155",
   "metadata": {},
   "outputs": [],
   "source": [
    "# MAP\n",
    "# Pendiente"
   ]
  },
  {
   "cell_type": "code",
   "execution_count": null,
   "id": "3947b554",
   "metadata": {},
   "outputs": [],
   "source": [
    "# APPLY\n",
    "# Desplegamos nuestro dataFrame\n",
    "df_price_FUNO11_aveprice"
   ]
  },
  {
   "cell_type": "code",
   "execution_count": null,
   "id": "5b95cc30",
   "metadata": {},
   "outputs": [],
   "source": [
    "# Creamos una función de reajuste de vol_trade\n",
    "def reajuste_vol_trade(value):\n",
    "    new_valor = value * 1.05\n",
    "    return new_valor"
   ]
  },
  {
   "cell_type": "code",
   "execution_count": null,
   "id": "108ec1f9",
   "metadata": {},
   "outputs": [],
   "source": [
    "# Aplicamos la función para reajustar valores en el DataFrame\n",
    "df_price_FUNO11_aveprice['vol_trade'] = df_price_FUNO11_aveprice['vol_trade'].apply(reajuste_vol_trade)\n",
    "df_price_FUNO11_aveprice"
   ]
  },
  {
   "cell_type": "code",
   "execution_count": null,
   "id": "ed3b92ce",
   "metadata": {},
   "outputs": [],
   "source": [
    "# FILTROS\n",
    "# Usaremos el DataFrame all_df_price_hist\n",
    "all_df_price_hist"
   ]
  },
  {
   "cell_type": "code",
   "execution_count": null,
   "id": "1fca533e",
   "metadata": {},
   "outputs": [],
   "source": [
    "# Creamos el filtro\n",
    "all_df_price_hist['ticker_price'].str.startswith('FUNO')"
   ]
  },
  {
   "cell_type": "code",
   "execution_count": null,
   "id": "5ca60600",
   "metadata": {},
   "outputs": [],
   "source": [
    "# realizamos una consulta aplicando el filtro\n",
    "all_funo11_price = all_df_price_hist[all_df_price_hist['ticker_price'].str.startswith('FUNO')]\n",
    "all_funo11_price"
   ]
  },
  {
   "cell_type": "code",
   "execution_count": null,
   "id": "53618c93",
   "metadata": {},
   "outputs": [],
   "source": [
    "# SORT\n",
    "all_funo11_price[all_funo11_price['close_price']>25].sort_values('date_price', ascending=False).head(24)"
   ]
  },
  {
   "cell_type": "code",
   "execution_count": null,
   "id": "0ed74519",
   "metadata": {},
   "outputs": [],
   "source": [
    "# MERGE\n",
    "# Verlo en n17_edores_balgral"
   ]
  }
 ],
 "metadata": {
  "kernelspec": {
   "display_name": "Python 3 (ipykernel)",
   "language": "python",
   "name": "python3"
  },
  "language_info": {
   "codemirror_mode": {
    "name": "ipython",
    "version": 3
   },
   "file_extension": ".py",
   "mimetype": "text/x-python",
   "name": "python",
   "nbconvert_exporter": "python",
   "pygments_lexer": "ipython3",
   "version": "3.10.5"
  }
 },
 "nbformat": 4,
 "nbformat_minor": 5
}
