{
 "cells": [
  {
   "cell_type": "markdown",
   "id": "36d4ada3",
   "metadata": {},
   "source": [
    "### Configuración"
   ]
  },
  {
   "cell_type": "code",
   "execution_count": 1,
   "id": "f3d1f5e7",
   "metadata": {},
   "outputs": [
    {
     "name": "stdout",
     "output_type": "stream",
     "text": [
      "Requirement already satisfied: mysql-connector-python in c:\\python310\\lib\\site-packages (8.2.0)\n",
      "Requirement already satisfied: protobuf<=4.21.12,>=4.21.1 in c:\\python310\\lib\\site-packages (from mysql-connector-python) (4.21.12)\n",
      "Requirement already satisfied: pandas in c:\\python310\\lib\\site-packages (2.1.2)\n",
      "Requirement already satisfied: numpy<2,>=1.22.4 in c:\\python310\\lib\\site-packages (from pandas) (1.26.1)\n",
      "Requirement already satisfied: python-dateutil>=2.8.2 in c:\\python310\\lib\\site-packages (from pandas) (2.8.2)\n",
      "Requirement already satisfied: pytz>=2020.1 in c:\\python310\\lib\\site-packages (from pandas) (2023.3.post1)\n",
      "Requirement already satisfied: tzdata>=2022.1 in c:\\python310\\lib\\site-packages (from pandas) (2023.3)\n",
      "Requirement already satisfied: six>=1.5 in c:\\python310\\lib\\site-packages (from python-dateutil>=2.8.2->pandas) (1.16.0)\n"
     ]
    }
   ],
   "source": [
    "# Instalación de MySQL Connector Python y Pandas\n",
    "!pip install mysql-connector-python\n",
    "!pip install pandas"
   ]
  },
  {
   "cell_type": "code",
   "execution_count": 2,
   "id": "095e86c9",
   "metadata": {},
   "outputs": [],
   "source": [
    "# Importación de MySQL Connector y Pandas\n",
    "import mysql.connector\n",
    "import pandas as pd"
   ]
  },
  {
   "cell_type": "code",
   "execution_count": 3,
   "id": "1c4772a6",
   "metadata": {},
   "outputs": [],
   "source": [
    "# Conexión a la base de datos de MySQL\n",
    "cnx = mysql.connector.connect(\n",
    "   host=\"localhost\",\n",
    "   port=3306,\n",
    "   user=\"root\",\n",
    "   password='2023*DaSci',\n",
    "   database='project_processpython'\n",
    ")"
   ]
  },
  {
   "cell_type": "code",
   "execution_count": 13,
   "id": "71dba064",
   "metadata": {},
   "outputs": [
    {
     "data": {
      "text/plain": [
       "('n00_accounts_catalog',)"
      ]
     },
     "execution_count": 13,
     "metadata": {},
     "output_type": "execute_result"
    }
   ],
   "source": [
    "# REVISAMOS TODAS LAS TABLAS DE LA BASE DE DATOS y Confirmamos el nombre de la tabla 1\n",
    "# Realización de lecturas a nuestra base de datos creando un objeto llamado cursor.\n",
    "cursor = cnx.cursor()\n",
    "# Consulta de tablas\n",
    "cursor.execute(\"SHOW TABLES\")\n",
    "#Extracción de información\n",
    "all_tables = cursor.fetchall()\n",
    "all_tables[0]\n",
    "# Para cerrar el cursor\n",
    "# cursor.close()"
   ]
  },
  {
   "cell_type": "code",
   "execution_count": 15,
   "id": "6c01c19d",
   "metadata": {},
   "outputs": [
    {
     "data": {
      "text/html": [
       "<div>\n",
       "<style scoped>\n",
       "    .dataframe tbody tr th:only-of-type {\n",
       "        vertical-align: middle;\n",
       "    }\n",
       "\n",
       "    .dataframe tbody tr th {\n",
       "        vertical-align: top;\n",
       "    }\n",
       "\n",
       "    .dataframe thead th {\n",
       "        text-align: right;\n",
       "    }\n",
       "</style>\n",
       "<table border=\"1\" class=\"dataframe\">\n",
       "  <thead>\n",
       "    <tr style=\"text-align: right;\">\n",
       "      <th></th>\n",
       "      <th>nombre_tabla</th>\n",
       "      <th>descripcion_tabla</th>\n",
       "      <th>nombre_columna</th>\n",
       "      <th>descripcion</th>\n",
       "      <th>descripcion_ingles</th>\n",
       "      <th>nuevo_nom_col</th>\n",
       "    </tr>\n",
       "    <tr>\n",
       "      <th>num_campo</th>\n",
       "      <th></th>\n",
       "      <th></th>\n",
       "      <th></th>\n",
       "      <th></th>\n",
       "      <th></th>\n",
       "      <th></th>\n",
       "    </tr>\n",
       "  </thead>\n",
       "  <tbody>\n",
       "    <tr>\n",
       "      <th>1</th>\n",
       "      <td>01_fibras_catalog</td>\n",
       "      <td>CatÃ¡logo de FIBRAs</td>\n",
       "      <td>Ticker</td>\n",
       "      <td>Clave del ticker (FIBRA)</td>\n",
       "      <td></td>\n",
       "      <td>ticker</td>\n",
       "    </tr>\n",
       "    <tr>\n",
       "      <th>2</th>\n",
       "      <td>01_fibras_catalog</td>\n",
       "      <td>CatÃ¡logo de FIBRAs</td>\n",
       "      <td>Emisor</td>\n",
       "      <td>Emisor de la FIBRA</td>\n",
       "      <td></td>\n",
       "      <td>emisor</td>\n",
       "    </tr>\n",
       "    <tr>\n",
       "      <th>3</th>\n",
       "      <td>01_fibras_catalog</td>\n",
       "      <td>CatÃ¡logo de FIBRAs</td>\n",
       "      <td>Inmueb_relev</td>\n",
       "      <td>Principales inmuebles de la FIBRA</td>\n",
       "      <td></td>\n",
       "      <td>inmue_relev</td>\n",
       "    </tr>\n",
       "    <tr>\n",
       "      <th>4</th>\n",
       "      <td>01_fibras_catalog</td>\n",
       "      <td>CatÃ¡logo de FIBRAs</td>\n",
       "      <td>year_list</td>\n",
       "      <td>AÃ±o de listado</td>\n",
       "      <td></td>\n",
       "      <td>year_list</td>\n",
       "    </tr>\n",
       "    <tr>\n",
       "      <th>5</th>\n",
       "      <td>01_fibras_catalog</td>\n",
       "      <td>CatÃ¡logo de FIBRAs</td>\n",
       "      <td>Sector</td>\n",
       "      <td>Principal sector de la FIBRA</td>\n",
       "      <td></td>\n",
       "      <td>sector</td>\n",
       "    </tr>\n",
       "  </tbody>\n",
       "</table>\n",
       "</div>"
      ],
      "text/plain": [
       "                nombre_tabla    descripcion_tabla nombre_columna  \\\n",
       "num_campo                                                          \n",
       "1          01_fibras_catalog  CatÃ¡logo de FIBRAs         Ticker   \n",
       "2          01_fibras_catalog  CatÃ¡logo de FIBRAs         Emisor   \n",
       "3          01_fibras_catalog  CatÃ¡logo de FIBRAs   Inmueb_relev   \n",
       "4          01_fibras_catalog  CatÃ¡logo de FIBRAs      year_list   \n",
       "5          01_fibras_catalog  CatÃ¡logo de FIBRAs         Sector   \n",
       "\n",
       "                                 descripcion descripcion_ingles nuevo_nom_col  \n",
       "num_campo                                                                      \n",
       "1                   Clave del ticker (FIBRA)                           ticker  \n",
       "2                         Emisor de la FIBRA                           emisor  \n",
       "3          Principales inmuebles de la FIBRA                      inmue_relev  \n",
       "4                            AÃ±o de listado                        year_list  \n",
       "5               Principal sector de la FIBRA                           sector  "
      ]
     },
     "execution_count": 15,
     "metadata": {},
     "output_type": "execute_result"
    }
   ],
   "source": [
    "# Realización de la lectura de la tabla n00_accounts_catalog creando un objeto llamado cursor.\n",
    "cursor = cnx.cursor()\n",
    "# Consulta de la tabla CATALOGO DE CUENTAS (n00_accounts_catalog)\n",
    "cursor.execute(\"SELECT * FROM n00_accounts_catalog\")\n",
    "#Extracción de información\n",
    "accounts_catalog = cursor.fetchall()\n",
    "# accounts_catalog\n",
    "\n",
    "# Prueba con una fila\n",
    "# accounts_catalog[0]\n",
    "\n",
    "# Construimos el DataFrame de CATÁLOGO DE CUENTAS\n",
    "df_accounts_catalog = pd.DataFrame(accounts_catalog, columns=['num_campo','nombre_tabla','descripcion_tabla', 'nombre_columna', 'descripcion', 'descripcion_ingles', 'nuevo_nom_col'])\n",
    "# print(df_accounts_catalog)\n",
    "# Convertir la columna user_id en índice \n",
    "df_accounts_catalog = df_accounts_catalog.set_index('num_campo', drop=True)\n",
    "df_accounts_catalog.head()\n",
    "\n",
    "# Para cerrar el cursor\n",
    "# cursor.close()"
   ]
  },
  {
   "cell_type": "markdown",
   "id": "4da7b865",
   "metadata": {},
   "source": [
    "### Análisis preliminar de la tabla"
   ]
  },
  {
   "cell_type": "code",
   "execution_count": 9,
   "id": "b0a8303b",
   "metadata": {},
   "outputs": [
    {
     "data": {
      "text/plain": [
       "(153, 6)"
      ]
     },
     "execution_count": 9,
     "metadata": {},
     "output_type": "execute_result"
    }
   ],
   "source": [
    "# Dimensiones de DataFrame accounts_catalog\n",
    "df_accounts_catalog.shape"
   ]
  },
  {
   "cell_type": "code",
   "execution_count": 16,
   "id": "a07db677",
   "metadata": {},
   "outputs": [
    {
     "data": {
      "text/plain": [
       "nombre_tabla          object\n",
       "descripcion_tabla     object\n",
       "nombre_columna        object\n",
       "descripcion           object\n",
       "descripcion_ingles    object\n",
       "nuevo_nom_col         object\n",
       "dtype: object"
      ]
     },
     "execution_count": 16,
     "metadata": {},
     "output_type": "execute_result"
    }
   ],
   "source": [
    "# Nombres de las columnas de DataFrame accounts_catalog\n",
    "# df_accounts_catalog.columns\n",
    "# Tipos de datos de DataFrame accounts_catalog\n",
    "df_accounts_catalog.dtypes"
   ]
  },
  {
   "cell_type": "code",
   "execution_count": 12,
   "id": "314f1304",
   "metadata": {},
   "outputs": [
    {
     "name": "stdout",
     "output_type": "stream",
     "text": [
      "<class 'pandas.core.frame.DataFrame'>\n",
      "Index: 153 entries, 1 to 153\n",
      "Data columns (total 6 columns):\n",
      " #   Column              Non-Null Count  Dtype \n",
      "---  ------              --------------  ----- \n",
      " 0   nombre_tabla        153 non-null    object\n",
      " 1   descripcion_tabla   153 non-null    object\n",
      " 2   nombre_columna      153 non-null    object\n",
      " 3   descripcion         153 non-null    object\n",
      " 4   descripcion_ingles  153 non-null    object\n",
      " 5   nuevo_nom_col       153 non-null    object\n",
      "dtypes: object(6)\n",
      "memory usage: 8.4+ KB\n"
     ]
    }
   ],
   "source": [
    "# Mas información de DataFrame accounts_catalog\n",
    "df_accounts_catalog.info()"
   ]
  }
 ],
 "metadata": {
  "kernelspec": {
   "display_name": "Python 3 (ipykernel)",
   "language": "python",
   "name": "python3"
  },
  "language_info": {
   "codemirror_mode": {
    "name": "ipython",
    "version": 3
   },
   "file_extension": ".py",
   "mimetype": "text/x-python",
   "name": "python",
   "nbconvert_exporter": "python",
   "pygments_lexer": "ipython3",
   "version": "3.10.5"
  }
 },
 "nbformat": 4,
 "nbformat_minor": 5
}
