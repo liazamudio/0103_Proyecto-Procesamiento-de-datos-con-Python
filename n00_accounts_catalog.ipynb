{
 "cells": [
  {
   "cell_type": "markdown",
   "id": "dda8a1a1",
   "metadata": {},
   "source": [
    "### Configuración"
   ]
  },
  {
   "cell_type": "code",
   "execution_count": 3,
   "id": "82474c32",
   "metadata": {},
   "outputs": [
    {
     "name": "stdout",
     "output_type": "stream",
     "text": [
      "Requirement already satisfied: mysql-connector-python in c:\\python310\\lib\\site-packages (8.2.0)\n",
      "Requirement already satisfied: protobuf<=4.21.12,>=4.21.1 in c:\\python310\\lib\\site-packages (from mysql-connector-python) (4.21.12)\n",
      "Requirement already satisfied: pandas in c:\\python310\\lib\\site-packages (2.1.2)\n",
      "Requirement already satisfied: numpy<2,>=1.22.4 in c:\\python310\\lib\\site-packages (from pandas) (1.26.1)\n",
      "Requirement already satisfied: python-dateutil>=2.8.2 in c:\\python310\\lib\\site-packages (from pandas) (2.8.2)\n",
      "Requirement already satisfied: pytz>=2020.1 in c:\\python310\\lib\\site-packages (from pandas) (2023.3.post1)\n",
      "Requirement already satisfied: tzdata>=2022.1 in c:\\python310\\lib\\site-packages (from pandas) (2023.3)\n",
      "Requirement already satisfied: six>=1.5 in c:\\python310\\lib\\site-packages (from python-dateutil>=2.8.2->pandas) (1.16.0)\n"
     ]
    }
   ],
   "source": [
    "# Instalación de MySQL Connector Python y Pandas\n",
    "!pip install mysql-connector-python\n",
    "!pip install pandas"
   ]
  },
  {
   "cell_type": "code",
   "execution_count": 4,
   "id": "95c862ec",
   "metadata": {},
   "outputs": [],
   "source": [
    "# Importación de MySQL Connector y Pandas\n",
    "import mysql.connector\n",
    "import pandas as pd"
   ]
  },
  {
   "cell_type": "code",
   "execution_count": 5,
   "id": "de9d8cb1",
   "metadata": {},
   "outputs": [],
   "source": [
    "# Conexión a la base de datos de MySQL\n",
    "cnx = mysql.connector.connect(\n",
    "   host=\"localhost\",\n",
    "   port=3306,\n",
    "   user=\"root\",\n",
    "   password='2023*DaSci',\n",
    "   database='project_processpython'\n",
    ")"
   ]
  },
  {
   "cell_type": "code",
   "execution_count": 6,
   "id": "c77abad6",
   "metadata": {},
   "outputs": [
    {
     "data": {
      "text/plain": [
       "[('n00_accounts_catalog',),\n",
       " ('n01_fibras_catalog',),\n",
       " ('n11_price_hist',),\n",
       " ('n12_edores',),\n",
       " ('n13_balgral',),\n",
       " ('n14_flucaja',),\n",
       " ('n15_dividendos',),\n",
       " ('n16_reportes',)]"
      ]
     },
     "execution_count": 6,
     "metadata": {},
     "output_type": "execute_result"
    }
   ],
   "source": [
    "# REVISAMOS TODAS LAS TABLAS DE LA BASE DE DATOS\n",
    "# Realización de lecturas a nuestra base de datos creando un objeto llamado cursor.\n",
    "cursor = cnx.cursor()\n",
    "# Consulta de tablas\n",
    "cursor.execute(\"SHOW TABLES\")\n",
    "#Extracción de información\n",
    "all_tables = cursor.fetchall()\n",
    "all_tables\n",
    "# Para cerrar el cursor\n",
    "# cursor.close()"
   ]
  },
  {
   "cell_type": "code",
   "execution_count": 7,
   "id": "cc730e58",
   "metadata": {},
   "outputs": [
    {
     "data": {
      "text/plain": [
       "('n00_accounts_catalog',)"
      ]
     },
     "execution_count": 7,
     "metadata": {},
     "output_type": "execute_result"
    }
   ],
   "source": [
    "# Verificamos las tablas\n",
    "all_tables[0]"
   ]
  },
  {
   "cell_type": "code",
   "execution_count": 8,
   "id": "35875176",
   "metadata": {},
   "outputs": [
    {
     "data": {
      "text/html": [
       "<div>\n",
       "<style scoped>\n",
       "    .dataframe tbody tr th:only-of-type {\n",
       "        vertical-align: middle;\n",
       "    }\n",
       "\n",
       "    .dataframe tbody tr th {\n",
       "        vertical-align: top;\n",
       "    }\n",
       "\n",
       "    .dataframe thead th {\n",
       "        text-align: right;\n",
       "    }\n",
       "</style>\n",
       "<table border=\"1\" class=\"dataframe\">\n",
       "  <thead>\n",
       "    <tr style=\"text-align: right;\">\n",
       "      <th></th>\n",
       "      <th>nombre_tabla</th>\n",
       "      <th>descripcion_tabla</th>\n",
       "      <th>nombre_columna</th>\n",
       "      <th>descripcion</th>\n",
       "      <th>descripcion_ingles</th>\n",
       "      <th>nuevo_nom_col</th>\n",
       "    </tr>\n",
       "    <tr>\n",
       "      <th>num_campo</th>\n",
       "      <th></th>\n",
       "      <th></th>\n",
       "      <th></th>\n",
       "      <th></th>\n",
       "      <th></th>\n",
       "      <th></th>\n",
       "    </tr>\n",
       "  </thead>\n",
       "  <tbody>\n",
       "    <tr>\n",
       "      <th>1</th>\n",
       "      <td>01_fibras_catalog</td>\n",
       "      <td>CatÃ¡logo de FIBRAs</td>\n",
       "      <td>Ticker</td>\n",
       "      <td>Clave del ticker (FIBRA)</td>\n",
       "      <td></td>\n",
       "      <td>ticker</td>\n",
       "    </tr>\n",
       "    <tr>\n",
       "      <th>2</th>\n",
       "      <td>01_fibras_catalog</td>\n",
       "      <td>CatÃ¡logo de FIBRAs</td>\n",
       "      <td>Emisor</td>\n",
       "      <td>Emisor de la FIBRA</td>\n",
       "      <td></td>\n",
       "      <td>emisor</td>\n",
       "    </tr>\n",
       "    <tr>\n",
       "      <th>3</th>\n",
       "      <td>01_fibras_catalog</td>\n",
       "      <td>CatÃ¡logo de FIBRAs</td>\n",
       "      <td>Inmueb_relev</td>\n",
       "      <td>Principales inmuebles de la FIBRA</td>\n",
       "      <td></td>\n",
       "      <td>inmue_relev</td>\n",
       "    </tr>\n",
       "    <tr>\n",
       "      <th>4</th>\n",
       "      <td>01_fibras_catalog</td>\n",
       "      <td>CatÃ¡logo de FIBRAs</td>\n",
       "      <td>year_list</td>\n",
       "      <td>AÃ±o de listado</td>\n",
       "      <td></td>\n",
       "      <td>year_list</td>\n",
       "    </tr>\n",
       "    <tr>\n",
       "      <th>5</th>\n",
       "      <td>01_fibras_catalog</td>\n",
       "      <td>CatÃ¡logo de FIBRAs</td>\n",
       "      <td>Sector</td>\n",
       "      <td>Principal sector de la FIBRA</td>\n",
       "      <td></td>\n",
       "      <td>sector</td>\n",
       "    </tr>\n",
       "  </tbody>\n",
       "</table>\n",
       "</div>"
      ],
      "text/plain": [
       "                nombre_tabla    descripcion_tabla nombre_columna  \\\n",
       "num_campo                                                          \n",
       "1          01_fibras_catalog  CatÃ¡logo de FIBRAs         Ticker   \n",
       "2          01_fibras_catalog  CatÃ¡logo de FIBRAs         Emisor   \n",
       "3          01_fibras_catalog  CatÃ¡logo de FIBRAs   Inmueb_relev   \n",
       "4          01_fibras_catalog  CatÃ¡logo de FIBRAs      year_list   \n",
       "5          01_fibras_catalog  CatÃ¡logo de FIBRAs         Sector   \n",
       "\n",
       "                                 descripcion descripcion_ingles nuevo_nom_col  \n",
       "num_campo                                                                      \n",
       "1                   Clave del ticker (FIBRA)                           ticker  \n",
       "2                         Emisor de la FIBRA                           emisor  \n",
       "3          Principales inmuebles de la FIBRA                      inmue_relev  \n",
       "4                            AÃ±o de listado                        year_list  \n",
       "5               Principal sector de la FIBRA                           sector  "
      ]
     },
     "execution_count": 8,
     "metadata": {},
     "output_type": "execute_result"
    }
   ],
   "source": [
    "# Realización de lecturas a nuestra base de datos creando un objeto llamado cursor.\n",
    "cursor = cnx.cursor()\n",
    "# Consulta de la tabla CATALOGO DE CUENTAS (n00_accounts_catalog)\n",
    "cursor.execute(\"SELECT * FROM n00_accounts_catalog\")\n",
    "#Extracción de información\n",
    "accounts_catalog = cursor.fetchall()\n",
    "# accounts_catalog\n",
    "\n",
    "# Revisión de una fila\n",
    "accounts_catalog[0]\n",
    "\n",
    "# Construimos el DataFrame\n",
    "df_accounts_catalog = pd.DataFrame(accounts_catalog, columns=['num_campo','nombre_tabla','descripcion_tabla', 'nombre_columna', 'descripcion', 'descripcion_ingles', 'nuevo_nom_col'])\n",
    "# print(df_accounts_catalog)\n",
    "# Convertir la columna user_id en índice \n",
    "df_accounts_catalog = df_accounts_catalog.set_index('num_campo', drop=True)\n",
    "# Desplegamos parte del Dataframe\n",
    "df_accounts_catalog.head()\n",
    "\n",
    "# Para cerrar el cursor\n",
    "# cursor.close()"
   ]
  },
  {
   "cell_type": "markdown",
   "id": "8f2d24af",
   "metadata": {},
   "source": [
    "### Análisis preliminar de la tabla"
   ]
  },
  {
   "cell_type": "code",
   "execution_count": null,
   "id": "815befa0",
   "metadata": {},
   "outputs": [],
   "source": [
    "# Dimensiones de DataFrame accounts_catalog\n",
    "df_accounts_catalog.shape"
   ]
  },
  {
   "cell_type": "code",
   "execution_count": null,
   "id": "4ec9857b",
   "metadata": {},
   "outputs": [],
   "source": [
    "# Nombres de las columnas de DataFrame accounts_catalog\n",
    "df_accounts_catalog.columns"
   ]
  },
  {
   "cell_type": "code",
   "execution_count": null,
   "id": "a758ca68",
   "metadata": {},
   "outputs": [],
   "source": [
    "# Tipos de datos de DataFrame accounts_catalog\n",
    "df_accounts_catalog.dtypes"
   ]
  },
  {
   "cell_type": "code",
   "execution_count": null,
   "id": "8893efc3",
   "metadata": {},
   "outputs": [],
   "source": [
    "# Mas información de DataFrame accounts_catalog\n",
    "df_accounts_catalog.info()"
   ]
  },
  {
   "cell_type": "markdown",
   "id": "c87cc853",
   "metadata": {},
   "source": [
    "### Despliegue del DataFrame"
   ]
  },
  {
   "cell_type": "code",
   "execution_count": null,
   "id": "351bf7d6",
   "metadata": {},
   "outputs": [],
   "source": [
    "# Despliegue final de todo el DataFrame CATÁLOGO DE CUENTAS. Solo se mostrarán algunos resultados.\n",
    "df_accounts_catalog.head(30)"
   ]
  },
  {
   "cell_type": "markdown",
   "id": "b3625f91",
   "metadata": {},
   "source": [
    "# REVISIÓN DE LOS CATALOGOS"
   ]
  },
  {
   "cell_type": "markdown",
   "id": "b2ac4787",
   "metadata": {},
   "source": [
    "#### Índices para el DataFrame CATÁLOGO DE FIBRAS (01_fibras_catalog)"
   ]
  },
  {
   "cell_type": "code",
   "execution_count": null,
   "id": "eead80b8",
   "metadata": {},
   "outputs": [],
   "source": [
    "# Extraemos los índices para el DataFrame CATÁLOGO DE FIBRAS\n",
    "# df_indices_01_fibras_catalog = df_accounts_catalog.loc[:8]\n",
    "df_indices_01_fibras_catalog = df_accounts_catalog.loc[:8]\n",
    "df_indices_01_fibras_catalog"
   ]
  },
  {
   "cell_type": "code",
   "execution_count": null,
   "id": "dbcb2859",
   "metadata": {},
   "outputs": [],
   "source": [
    "# Convertimos ese resultado en una lista\n",
    "indices_01_fibras_catalog = df_indices_01_fibras_catalog['nuevo_nom_col'].tolist()\n",
    "print(indices_01_fibras_catalog)\n",
    "\n",
    "# Resultado: ['ticker', 'emisor', 'inmue_relev', 'year_list', 'sector', 'cant_inmueb', 'tipo_emision', 'isin_ticker']"
   ]
  },
  {
   "cell_type": "markdown",
   "id": "08855773",
   "metadata": {},
   "source": [
    "#### Índices para el DataFrame de PRECIOS HISTORICOS (n11_price_hist)"
   ]
  },
  {
   "cell_type": "code",
   "execution_count": null,
   "id": "9497f54d",
   "metadata": {},
   "outputs": [],
   "source": [
    "# Extraemos los índices para el DataFrame de PRECIOS HISTORICOS (n11_price_hist)\n",
    "# df_indices_01_fibras_catalog = df_accounts_catalog.loc[9:17]\n",
    "df_indices_11_price_hist = df_accounts_catalog.loc[9:17]\n",
    "df_indices_11_price_hist"
   ]
  },
  {
   "cell_type": "code",
   "execution_count": null,
   "id": "86210b47",
   "metadata": {},
   "outputs": [],
   "source": [
    "# Convertimos ese resultado en una lista\n",
    "indices_11_price_hist = df_indices_11_price_hist['nuevo_nom_col'].tolist()\n",
    "print(indices_11_price_hist)\n",
    "\n",
    "# Resultado: ['num_reg', 'date_price', 'ticker_price', 'open_price', 'high_price', 'low_price', 'close_price', 'adj_lose_price', 'vol_trade']"
   ]
  },
  {
   "cell_type": "markdown",
   "id": "95f61c4a",
   "metadata": {},
   "source": [
    "#### Índices para el DataFrame de ESTADOS DE RESULTADOS (n12_edores)"
   ]
  },
  {
   "cell_type": "code",
   "execution_count": null,
   "id": "4fc0cd56",
   "metadata": {},
   "outputs": [],
   "source": [
    "# Extraemos los índices para el DataFrame ESTADOS DE RESULTADOS\n",
    "# df_indices_n12_edores = df_accounts_catalog.loc[18:54]\n",
    "df_indices_n12_edores = df_accounts_catalog.loc[18:54]\n",
    "df_indices_n12_edores"
   ]
  },
  {
   "cell_type": "code",
   "execution_count": null,
   "id": "b0c66fbb",
   "metadata": {},
   "outputs": [],
   "source": [
    "# Convertimos ese resultado en una lista\n",
    "indices_n12_edores = df_indices_n12_edores['nuevo_nom_col'].tolist()\n",
    "print(indices_n12_edores)\n",
    "\n",
    "# Resultado: ['ticker_edores', 'perio_edores', 'observ_edores', 'cierre_edores', 'vnt_edores', 'vn_edores', 'ovt_edores', 'cosven_edores', 'uti_bru_edores', 'gto_ope_edores', 'gto_vag_edores', 'gto_dev_edores', 'gto_depamo_edores', 'gto_ine_edores', 'gto_ext_edores', 'gto_other_edores', 'uti_ope_edores', 'gto_inpr_edores', 'uti_vaf_edores', 'oth_net_edores', 'raim_edores', 'tot_imp_uti_edores', 'res_naiu_edores', 'par_nocon_edores', 'prsa_edores', 'gaap_edores', 'res_ape_redores', 'tot_parext_edores', 'res_neto_edores', 'aju_trn_edores', 'ing_disp_spe_edores', 'aju_dil_edores', 'dil_un_edores', 'dilprom_pa_edores', 'dil_gpaspe_edores', 'dpa_scdp_edores', 'dil_gpab_edores']"
   ]
  },
  {
   "cell_type": "markdown",
   "id": "ef097968",
   "metadata": {},
   "source": [
    "#### Índices para el DataFrame de BALANCES GENERALES (n13_balgral)"
   ]
  },
  {
   "cell_type": "code",
   "execution_count": null,
   "id": "eff43830",
   "metadata": {},
   "outputs": [],
   "source": [
    "# Extraemos los índices para el DataFrame BALANCES GENERALES\n",
    "# df_n13_balgral = df_accounts_catalog.loc[55:105]\n",
    "df_indices_n13_balgral = df_accounts_catalog.loc[55:105]\n",
    "df_indices_n13_balgral"
   ]
  },
  {
   "cell_type": "code",
   "execution_count": null,
   "id": "d25f0536",
   "metadata": {},
   "outputs": [],
   "source": [
    "# Convertimos ese resultado en una lista\n",
    "indices_n13_balgral = df_indices_n13_balgral['nuevo_nom_col'].tolist()\n",
    "print(indices_n13_balgral)\n",
    "\n",
    "# Resultado: ['ticker_balgral', 'perio_balgral', 'cierre_balbral', 'observ_balgral', 'tac_balgral', 'eicp_balgral', 'efectivo_balgral', 'eee_balgral', 'inv_cp_balgral', 'cxc_balgral', 'cxc_com_balgral', 'inven_balgral', 'pagant_balgral', 'oth_ac_balgral', 'tot_act_balgral', 'ime_neto_balgral', 'ime_bruto_balgral', 'dep_acum_balgral', 'cred_merc_balgral', 'intan_balgral', 'inver_per_balgral', 'docxc_lp_balgral', 'othact_per_balgral', 'othact_tot_balgral', 'tot_pas_c_balgral', 'cxp_balgral', 'cxp_obl_balgral', 'inv_cp2_balgral', 'docxpagar_balgral', 'deu_ec_oovn_balgral', 'oth_cxp_balgral', 'tot_pas_balgral', 'deu_lpt_balgral', 'deu_lp_balgral', 'obl_caf_balgral', 'imp_gandif_balgral', 'par_nocont_balgral', 'oth_pas_balgral', 'cap_con_balgral', 'ac_dirresc_balgral', 'cred_mer_balgral', 'acc_com_balgral', 'prim_venacc_balgral', 'res_ejean_balgral', 'acc_tes_balgral', 'esop_balgral', 'ganper_nre_balgral', 'oth_par_balgral', 'tot_pas_cc_balgral', 'tacc_balgral', 'tapc_balgral']\n"
   ]
  },
  {
   "cell_type": "markdown",
   "id": "f50145c0",
   "metadata": {},
   "source": [
    "#### Índices para el DataFrame FLUJOS DE EFECTIVO O CAJA (n14_flucaja)"
   ]
  },
  {
   "cell_type": "code",
   "execution_count": null,
   "id": "31ebe87f",
   "metadata": {},
   "outputs": [],
   "source": [
    "# Extraemos los índices para el DataFrame FLUJOS DE EFECTIVO O CAJA\n",
    "# df_n14_flucaja = df_accounts_catalog.loc[106:136]\n",
    "df_n14_flucaja = df_accounts_catalog.loc[106:136]\n",
    "df_n14_flucaja"
   ]
  },
  {
   "cell_type": "code",
   "execution_count": null,
   "id": "6f6b79a0",
   "metadata": {},
   "outputs": [],
   "source": [
    "# Convertimos ese resultado en una lista\n",
    "indices_n14_flucaja = df_n14_flucaja['nuevo_nom_col'].tolist()\n",
    "print(indices_n14_flucaja)\n",
    "\n",
    "# Resultado: ['ticker_flucaj', 'period_flucaj', 'obser_flucaj', 'cierre_flucaj', 'durper_flucaj', 'res_neto_flucaj', 'fne_actope_flucaj', 'depr_flucaj', 'amort_flucaj', 'impdif_flucaj', 'par_noefe_flucaj', 'entr_caja_flucaj', 'pag_efe_flucaj', 'isr_pagefe_flucaj', 'int_pagefe_flucaj', 'cam_opasope_flucaj', 'fne_actinv_flucaj', 'pagxadq_mobeq_flucaj', 'pagxadq_subsid_flucaj', 'fne_actfin_flucaj', 'incr_pxsraipnc_flucaj', 'tot_pagdiv_flucaj', 'emiacc_pag_flucaj', 'enideu_pag_flucaj', 'aju_fex_vartcinf_flucaj', 'var_ne_flucaj', 'saldo_efe_ape_flucaj', 'saldo_efe_cie_flucaj', 'flu_caja_libre_flucaj', 'crec_fcl_flucaj', 'rend_fcl_flucaj', 'clave_div']"
   ]
  },
  {
   "cell_type": "markdown",
   "id": "73116fc3",
   "metadata": {},
   "source": [
    "#### Índices para el DataFrame DIVIDENDOS (n15_dividendos)"
   ]
  },
  {
   "cell_type": "code",
   "execution_count": null,
   "id": "172ec34e",
   "metadata": {},
   "outputs": [],
   "source": [
    "# Extraemos los índices para el DataFrame DIVIDENDOS\n",
    "# df_n15_dividendos = df_accounts_catalog.loc[137:144]\n",
    "df_n15_dividendos = df_accounts_catalog.loc[137:144]\n",
    "df_n15_dividendos"
   ]
  },
  {
   "cell_type": "code",
   "execution_count": null,
   "id": "f5d93914",
   "metadata": {},
   "outputs": [],
   "source": [
    "# Convertimos ese resultado en una lista\n",
    "indices_n15_dividendos = df_n15_dividendos['nuevo_nom_col'].tolist()\n",
    "print(indices_n15_dividendos)\n",
    "\n",
    "# Resultado: ['clave_div', 'cierre_div', 'ticker_div', 'fec_ex_div', 'cant_div', 'tipo_div', 'pago_div', 'rendim_div']"
   ]
  },
  {
   "cell_type": "markdown",
   "id": "9f98a087",
   "metadata": {},
   "source": [
    "#### Índices para el DataFrame REPORTES (n16_reportes)"
   ]
  },
  {
   "cell_type": "code",
   "execution_count": null,
   "id": "9dc1e7e9",
   "metadata": {},
   "outputs": [],
   "source": [
    "# Extraemos los índices para el DataFrame DIVIDENDOS\n",
    "# df_n16_reportes = df_accounts_catalog.loc[145:]\n",
    "df_n16_reportes = df_accounts_catalog.loc[145:]\n",
    "df_n16_reportes"
   ]
  },
  {
   "cell_type": "code",
   "execution_count": null,
   "id": "82bc9d85",
   "metadata": {},
   "outputs": [],
   "source": [
    "# Convertimos ese resultado en una lista\n",
    "indices_n16_reportes = df_n16_reportes['nuevo_nom_col'].tolist()\n",
    "print(indices_n16_reportes)\n",
    "\n",
    "# Resultado: ['clave_rep', 'fecha_rep', 'ticker_rep', 'pub_rep', 'cierre_rep', 'bpa_log_rep', 'bpa_prev_rep', 'gan_log_rep', 'gan_prev_rep']\n"
   ]
  },
  {
   "cell_type": "markdown",
   "id": "f8f21367",
   "metadata": {},
   "source": [
    "## Aplicar lo visto en los DataFrames"
   ]
  },
  {
   "cell_type": "code",
   "execution_count": 10,
   "id": "dd0d2835",
   "metadata": {},
   "outputs": [
    {
     "data": {
      "text/html": [
       "<div>\n",
       "<style scoped>\n",
       "    .dataframe tbody tr th:only-of-type {\n",
       "        vertical-align: middle;\n",
       "    }\n",
       "\n",
       "    .dataframe tbody tr th {\n",
       "        vertical-align: top;\n",
       "    }\n",
       "\n",
       "    .dataframe thead th {\n",
       "        text-align: right;\n",
       "    }\n",
       "</style>\n",
       "<table border=\"1\" class=\"dataframe\">\n",
       "  <thead>\n",
       "    <tr style=\"text-align: right;\">\n",
       "      <th></th>\n",
       "      <th>nombre_tabla</th>\n",
       "      <th>descripcion_tabla</th>\n",
       "      <th>nombre_columna</th>\n",
       "      <th>descripcion</th>\n",
       "      <th>descripcion_ingles</th>\n",
       "      <th>nuevo_nom_col</th>\n",
       "    </tr>\n",
       "    <tr>\n",
       "      <th>num_campo</th>\n",
       "      <th></th>\n",
       "      <th></th>\n",
       "      <th></th>\n",
       "      <th></th>\n",
       "      <th></th>\n",
       "      <th></th>\n",
       "    </tr>\n",
       "  </thead>\n",
       "  <tbody>\n",
       "    <tr>\n",
       "      <th>1</th>\n",
       "      <td>01_fibras_catalog</td>\n",
       "      <td>CatÃ¡logo de FIBRAs</td>\n",
       "      <td>Ticker</td>\n",
       "      <td>Clave del ticker (FIBRA)</td>\n",
       "      <td></td>\n",
       "      <td>ticker</td>\n",
       "    </tr>\n",
       "    <tr>\n",
       "      <th>2</th>\n",
       "      <td>01_fibras_catalog</td>\n",
       "      <td>CatÃ¡logo de FIBRAs</td>\n",
       "      <td>Emisor</td>\n",
       "      <td>Emisor de la FIBRA</td>\n",
       "      <td></td>\n",
       "      <td>emisor</td>\n",
       "    </tr>\n",
       "    <tr>\n",
       "      <th>3</th>\n",
       "      <td>01_fibras_catalog</td>\n",
       "      <td>CatÃ¡logo de FIBRAs</td>\n",
       "      <td>Inmueb_relev</td>\n",
       "      <td>Principales inmuebles de la FIBRA</td>\n",
       "      <td></td>\n",
       "      <td>inmue_relev</td>\n",
       "    </tr>\n",
       "    <tr>\n",
       "      <th>4</th>\n",
       "      <td>01_fibras_catalog</td>\n",
       "      <td>CatÃ¡logo de FIBRAs</td>\n",
       "      <td>year_list</td>\n",
       "      <td>AÃ±o de listado</td>\n",
       "      <td></td>\n",
       "      <td>year_list</td>\n",
       "    </tr>\n",
       "    <tr>\n",
       "      <th>5</th>\n",
       "      <td>01_fibras_catalog</td>\n",
       "      <td>CatÃ¡logo de FIBRAs</td>\n",
       "      <td>Sector</td>\n",
       "      <td>Principal sector de la FIBRA</td>\n",
       "      <td></td>\n",
       "      <td>sector</td>\n",
       "    </tr>\n",
       "    <tr>\n",
       "      <th>6</th>\n",
       "      <td>01_fibras_catalog</td>\n",
       "      <td>CatÃ¡logo de FIBRAs</td>\n",
       "      <td>cant_inmueb</td>\n",
       "      <td>Cantidad d einmuebles de la FIBRA</td>\n",
       "      <td></td>\n",
       "      <td>cant_inmueb</td>\n",
       "    </tr>\n",
       "    <tr>\n",
       "      <th>7</th>\n",
       "      <td>01_fibras_catalog</td>\n",
       "      <td>CatÃ¡logo de FIBRAs</td>\n",
       "      <td>Tipo</td>\n",
       "      <td>Tipo de emisiÃ³n</td>\n",
       "      <td></td>\n",
       "      <td>tipo_emision</td>\n",
       "    </tr>\n",
       "    <tr>\n",
       "      <th>8</th>\n",
       "      <td>01_fibras_catalog</td>\n",
       "      <td>CatÃ¡logo de FIBRAs</td>\n",
       "      <td>ISIN</td>\n",
       "      <td>CÃ³digo internacional del valor financiero</td>\n",
       "      <td></td>\n",
       "      <td>isin_ticker</td>\n",
       "    </tr>\n",
       "    <tr>\n",
       "      <th>9</th>\n",
       "      <td>11_price_hist</td>\n",
       "      <td>Precios histÃ³ricos de los tickers</td>\n",
       "      <td>num</td>\n",
       "      <td>Numero de registro</td>\n",
       "      <td></td>\n",
       "      <td>num_reg</td>\n",
       "    </tr>\n",
       "    <tr>\n",
       "      <th>10</th>\n",
       "      <td>11_price_hist</td>\n",
       "      <td>Precios histÃ³ricos de los tickers</td>\n",
       "      <td>Date</td>\n",
       "      <td>Fecha del precio del ticker</td>\n",
       "      <td></td>\n",
       "      <td>date_price</td>\n",
       "    </tr>\n",
       "  </tbody>\n",
       "</table>\n",
       "</div>"
      ],
      "text/plain": [
       "                nombre_tabla                   descripcion_tabla  \\\n",
       "num_campo                                                          \n",
       "1          01_fibras_catalog                 CatÃ¡logo de FIBRAs   \n",
       "2          01_fibras_catalog                 CatÃ¡logo de FIBRAs   \n",
       "3          01_fibras_catalog                 CatÃ¡logo de FIBRAs   \n",
       "4          01_fibras_catalog                 CatÃ¡logo de FIBRAs   \n",
       "5          01_fibras_catalog                 CatÃ¡logo de FIBRAs   \n",
       "6          01_fibras_catalog                 CatÃ¡logo de FIBRAs   \n",
       "7          01_fibras_catalog                 CatÃ¡logo de FIBRAs   \n",
       "8          01_fibras_catalog                 CatÃ¡logo de FIBRAs   \n",
       "9              11_price_hist  Precios histÃ³ricos de los tickers   \n",
       "10             11_price_hist  Precios histÃ³ricos de los tickers   \n",
       "\n",
       "          nombre_columna                                 descripcion  \\\n",
       "num_campo                                                              \n",
       "1                 Ticker                    Clave del ticker (FIBRA)   \n",
       "2                 Emisor                          Emisor de la FIBRA   \n",
       "3           Inmueb_relev           Principales inmuebles de la FIBRA   \n",
       "4              year_list                             AÃ±o de listado   \n",
       "5                 Sector                Principal sector de la FIBRA   \n",
       "6            cant_inmueb           Cantidad d einmuebles de la FIBRA   \n",
       "7                   Tipo                            Tipo de emisiÃ³n   \n",
       "8                   ISIN  CÃ³digo internacional del valor financiero   \n",
       "9                    num                          Numero de registro   \n",
       "10                  Date                 Fecha del precio del ticker   \n",
       "\n",
       "          descripcion_ingles nuevo_nom_col  \n",
       "num_campo                                   \n",
       "1                                   ticker  \n",
       "2                                   emisor  \n",
       "3                              inmue_relev  \n",
       "4                                year_list  \n",
       "5                                   sector  \n",
       "6                              cant_inmueb  \n",
       "7                             tipo_emision  \n",
       "8                              isin_ticker  \n",
       "9                                  num_reg  \n",
       "10                              date_price  "
      ]
     },
     "execution_count": 10,
     "metadata": {},
     "output_type": "execute_result"
    }
   ],
   "source": [
    "# MANIPULACIÓN DE STRINGS\n",
    "# Despliegue de una parte del DataFrame CATÁLOGO DE CUENTAS.\n",
    "df_accounts_catalog.head(10)"
   ]
  },
  {
   "cell_type": "code",
   "execution_count": 11,
   "id": "84f4ee55",
   "metadata": {},
   "outputs": [
    {
     "data": {
      "text/plain": [
       "num_campo\n",
       "1        Catálogo de FIBRAs\n",
       "2        Catálogo de FIBRAs\n",
       "3        Catálogo de FIBRAs\n",
       "4        Catálogo de FIBRAs\n",
       "5        Catálogo de FIBRAs\n",
       "               ...         \n",
       "149    Reportes de emisoras\n",
       "150    Reportes de emisoras\n",
       "151    Reportes de emisoras\n",
       "152    Reportes de emisoras\n",
       "153    Reportes de emisoras\n",
       "Name: descripcion_tabla, Length: 153, dtype: object"
      ]
     },
     "execution_count": 11,
     "metadata": {},
     "output_type": "execute_result"
    }
   ],
   "source": [
    "# Empezamos a reemplazar con str.replace()\n",
    "df_accounts_catalog['descripcion_tabla'].str.replace('CatÃ¡logo','Catálogo')"
   ]
  },
  {
   "cell_type": "code",
   "execution_count": 12,
   "id": "be946b6d",
   "metadata": {},
   "outputs": [
    {
     "data": {
      "text/plain": [
       "num_campo\n",
       "1               Clave del ticker (FIBRA)\n",
       "2                     Emisor de la FIBRA\n",
       "3      Principales inmuebles de la FIBRA\n",
       "4                         Año de listado\n",
       "5           Principal sector de la FIBRA\n",
       "                     ...                \n",
       "149                   Periodo que cierra\n",
       "150        Beneficio por acciÃ³n logrado\n",
       "151       Beneficio por acciÃ³n previsto\n",
       "152                      Ganacia lograda\n",
       "153                    Ganancia prevista\n",
       "Name: descripcion, Length: 153, dtype: object"
      ]
     },
     "execution_count": 12,
     "metadata": {},
     "output_type": "execute_result"
    }
   ],
   "source": [
    "df_accounts_catalog['descripcion'].str.replace('AÃ±o','Año')"
   ]
  },
  {
   "cell_type": "code",
   "execution_count": 13,
   "id": "a6b6cc85",
   "metadata": {},
   "outputs": [],
   "source": [
    "# Reasignar en el DataFrame\n",
    "df_accounts_catalog['descripcion_tabla'] = df_accounts_catalog['descripcion_tabla'].str.replace('CatÃ¡logo','Catálogo')\n",
    "df_accounts_catalog['descripcion'] = df_accounts_catalog['descripcion'].str.replace('AÃ±o','Año')"
   ]
  },
  {
   "cell_type": "code",
   "execution_count": 14,
   "id": "a5ee0f20",
   "metadata": {},
   "outputs": [
    {
     "data": {
      "text/html": [
       "<div>\n",
       "<style scoped>\n",
       "    .dataframe tbody tr th:only-of-type {\n",
       "        vertical-align: middle;\n",
       "    }\n",
       "\n",
       "    .dataframe tbody tr th {\n",
       "        vertical-align: top;\n",
       "    }\n",
       "\n",
       "    .dataframe thead th {\n",
       "        text-align: right;\n",
       "    }\n",
       "</style>\n",
       "<table border=\"1\" class=\"dataframe\">\n",
       "  <thead>\n",
       "    <tr style=\"text-align: right;\">\n",
       "      <th></th>\n",
       "      <th>nombre_tabla</th>\n",
       "      <th>descripcion_tabla</th>\n",
       "      <th>nombre_columna</th>\n",
       "      <th>descripcion</th>\n",
       "      <th>descripcion_ingles</th>\n",
       "      <th>nuevo_nom_col</th>\n",
       "    </tr>\n",
       "    <tr>\n",
       "      <th>num_campo</th>\n",
       "      <th></th>\n",
       "      <th></th>\n",
       "      <th></th>\n",
       "      <th></th>\n",
       "      <th></th>\n",
       "      <th></th>\n",
       "    </tr>\n",
       "  </thead>\n",
       "  <tbody>\n",
       "    <tr>\n",
       "      <th>1</th>\n",
       "      <td>01_fibras_catalog</td>\n",
       "      <td>Catálogo de FIBRAs</td>\n",
       "      <td>Ticker</td>\n",
       "      <td>Clave del ticker (FIBRA)</td>\n",
       "      <td></td>\n",
       "      <td>ticker</td>\n",
       "    </tr>\n",
       "    <tr>\n",
       "      <th>2</th>\n",
       "      <td>01_fibras_catalog</td>\n",
       "      <td>Catálogo de FIBRAs</td>\n",
       "      <td>Emisor</td>\n",
       "      <td>Emisor de la FIBRA</td>\n",
       "      <td></td>\n",
       "      <td>emisor</td>\n",
       "    </tr>\n",
       "    <tr>\n",
       "      <th>3</th>\n",
       "      <td>01_fibras_catalog</td>\n",
       "      <td>Catálogo de FIBRAs</td>\n",
       "      <td>Inmueb_relev</td>\n",
       "      <td>Principales inmuebles de la FIBRA</td>\n",
       "      <td></td>\n",
       "      <td>inmue_relev</td>\n",
       "    </tr>\n",
       "    <tr>\n",
       "      <th>4</th>\n",
       "      <td>01_fibras_catalog</td>\n",
       "      <td>Catálogo de FIBRAs</td>\n",
       "      <td>year_list</td>\n",
       "      <td>Año de listado</td>\n",
       "      <td></td>\n",
       "      <td>year_list</td>\n",
       "    </tr>\n",
       "    <tr>\n",
       "      <th>5</th>\n",
       "      <td>01_fibras_catalog</td>\n",
       "      <td>Catálogo de FIBRAs</td>\n",
       "      <td>Sector</td>\n",
       "      <td>Principal sector de la FIBRA</td>\n",
       "      <td></td>\n",
       "      <td>sector</td>\n",
       "    </tr>\n",
       "    <tr>\n",
       "      <th>6</th>\n",
       "      <td>01_fibras_catalog</td>\n",
       "      <td>Catálogo de FIBRAs</td>\n",
       "      <td>cant_inmueb</td>\n",
       "      <td>Cantidad d einmuebles de la FIBRA</td>\n",
       "      <td></td>\n",
       "      <td>cant_inmueb</td>\n",
       "    </tr>\n",
       "    <tr>\n",
       "      <th>7</th>\n",
       "      <td>01_fibras_catalog</td>\n",
       "      <td>Catálogo de FIBRAs</td>\n",
       "      <td>Tipo</td>\n",
       "      <td>Tipo de emisiÃ³n</td>\n",
       "      <td></td>\n",
       "      <td>tipo_emision</td>\n",
       "    </tr>\n",
       "    <tr>\n",
       "      <th>8</th>\n",
       "      <td>01_fibras_catalog</td>\n",
       "      <td>Catálogo de FIBRAs</td>\n",
       "      <td>ISIN</td>\n",
       "      <td>CÃ³digo internacional del valor financiero</td>\n",
       "      <td></td>\n",
       "      <td>isin_ticker</td>\n",
       "    </tr>\n",
       "    <tr>\n",
       "      <th>9</th>\n",
       "      <td>11_price_hist</td>\n",
       "      <td>Precios histÃ³ricos de los tickers</td>\n",
       "      <td>num</td>\n",
       "      <td>Numero de registro</td>\n",
       "      <td></td>\n",
       "      <td>num_reg</td>\n",
       "    </tr>\n",
       "    <tr>\n",
       "      <th>10</th>\n",
       "      <td>11_price_hist</td>\n",
       "      <td>Precios histÃ³ricos de los tickers</td>\n",
       "      <td>Date</td>\n",
       "      <td>Fecha del precio del ticker</td>\n",
       "      <td></td>\n",
       "      <td>date_price</td>\n",
       "    </tr>\n",
       "  </tbody>\n",
       "</table>\n",
       "</div>"
      ],
      "text/plain": [
       "                nombre_tabla                   descripcion_tabla  \\\n",
       "num_campo                                                          \n",
       "1          01_fibras_catalog                  Catálogo de FIBRAs   \n",
       "2          01_fibras_catalog                  Catálogo de FIBRAs   \n",
       "3          01_fibras_catalog                  Catálogo de FIBRAs   \n",
       "4          01_fibras_catalog                  Catálogo de FIBRAs   \n",
       "5          01_fibras_catalog                  Catálogo de FIBRAs   \n",
       "6          01_fibras_catalog                  Catálogo de FIBRAs   \n",
       "7          01_fibras_catalog                  Catálogo de FIBRAs   \n",
       "8          01_fibras_catalog                  Catálogo de FIBRAs   \n",
       "9              11_price_hist  Precios histÃ³ricos de los tickers   \n",
       "10             11_price_hist  Precios histÃ³ricos de los tickers   \n",
       "\n",
       "          nombre_columna                                 descripcion  \\\n",
       "num_campo                                                              \n",
       "1                 Ticker                    Clave del ticker (FIBRA)   \n",
       "2                 Emisor                          Emisor de la FIBRA   \n",
       "3           Inmueb_relev           Principales inmuebles de la FIBRA   \n",
       "4              year_list                              Año de listado   \n",
       "5                 Sector                Principal sector de la FIBRA   \n",
       "6            cant_inmueb           Cantidad d einmuebles de la FIBRA   \n",
       "7                   Tipo                            Tipo de emisiÃ³n   \n",
       "8                   ISIN  CÃ³digo internacional del valor financiero   \n",
       "9                    num                          Numero de registro   \n",
       "10                  Date                 Fecha del precio del ticker   \n",
       "\n",
       "          descripcion_ingles nuevo_nom_col  \n",
       "num_campo                                   \n",
       "1                                   ticker  \n",
       "2                                   emisor  \n",
       "3                              inmue_relev  \n",
       "4                                year_list  \n",
       "5                                   sector  \n",
       "6                              cant_inmueb  \n",
       "7                             tipo_emision  \n",
       "8                              isin_ticker  \n",
       "9                                  num_reg  \n",
       "10                              date_price  "
      ]
     },
     "execution_count": 14,
     "metadata": {},
     "output_type": "execute_result"
    }
   ],
   "source": [
    "# revisamos en resultado\n",
    "df_accounts_catalog.head(10)"
   ]
  },
  {
   "cell_type": "code",
   "execution_count": null,
   "id": "9581d592",
   "metadata": {},
   "outputs": [],
   "source": []
  }
 ],
 "metadata": {
  "kernelspec": {
   "display_name": "Python 3 (ipykernel)",
   "language": "python",
   "name": "python3"
  },
  "language_info": {
   "codemirror_mode": {
    "name": "ipython",
    "version": 3
   },
   "file_extension": ".py",
   "mimetype": "text/x-python",
   "name": "python",
   "nbconvert_exporter": "python",
   "pygments_lexer": "ipython3",
   "version": "3.10.5"
  }
 },
 "nbformat": 4,
 "nbformat_minor": 5
}
